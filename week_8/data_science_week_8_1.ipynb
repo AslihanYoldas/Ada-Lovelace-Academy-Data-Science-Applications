{
 "cells": [
  {
   "cell_type": "markdown",
   "metadata": {},
   "source": [
    "# Classificaton model evaluation"
   ]
  },
  {
   "cell_type": "markdown",
   "metadata": {},
   "source": [
    "### Evaluation Metrics for Classifiers\n",
    "1. Jaccard Index\n",
    "2. F1 Score\n",
    "3. Log Loss"
   ]
  },
  {
   "cell_type": "markdown",
   "metadata": {},
   "source": [
    "### Jaccard Index\n",
    "\n",
    "- y : actual values\n",
    "- y^: predicted values"
   ]
  },
  {
   "cell_type": "code",
   "execution_count": 1,
   "metadata": {},
   "outputs": [],
   "source": [
    "y = [0, 0, 0, 0, 0, 1, 1, 1, 1, 1]\n",
    "y_hat = [1, 1, 0, 0, 0, 1, 1, 1, 1, 1]"
   ]
  },
  {
   "cell_type": "code",
   "execution_count": 2,
   "metadata": {},
   "outputs": [
    {
     "name": "stdout",
     "output_type": "stream",
     "text": [
      "0.6666666666666666\n"
     ]
    }
   ],
   "source": [
    "# jaccard index formula\n",
    "jaccard = 8 / (10 + 10 -8)\n",
    "print(jaccard)"
   ]
  },
  {
   "cell_type": "markdown",
   "metadata": {},
   "source": [
    "High accuaracy : 1.0\n",
    "Low accuaracy : 0.0"
   ]
  },
  {
   "cell_type": "markdown",
   "metadata": {},
   "source": [
    "### F1-Score\n",
    "\n",
    "Precision, Recall\n",
    "- Precision is a measure of the accuracy\n",
    "    - Precision = TP / (TP + FP)\n",
    "- Recall is the true positive rate\n",
    "    - Recall = TP / (TP + FN)"
   ]
  },
  {
   "cell_type": "code",
   "execution_count": 1,
   "metadata": {},
   "outputs": [],
   "source": [
    "TP = 10\n",
    "FN = 2\n",
    "TN = 12\n",
    "FP = 1\n"
   ]
  },
  {
   "cell_type": "code",
   "execution_count": 2,
   "metadata": {},
   "outputs": [],
   "source": [
    "# class = 1 (Positive)\n",
    "precision_1 = TP / (TP + FP)\n",
    "recall_1 = TP / (TP + FN)\n",
    "\n",
    "# class = 2 (Negative)\n",
    "precision_2 = TN / (TN + FN)\n",
    "recall_2 = TN / (TN + FP)"
   ]
  },
  {
   "cell_type": "code",
   "execution_count": 8,
   "metadata": {},
   "outputs": [
    {
     "name": "stdout",
     "output_type": "stream",
     "text": [
      "Class1: \n",
      " Precision: 0.91 \n",
      " Recall: 0.83\n",
      "Class2: \n",
      " Precision: 0.86 \n",
      " Recall: 0.92\n"
     ]
    }
   ],
   "source": [
    "print(f\"Class1: \\n Precision: {precision_1:.2f} \\n Recall: {recall_1:.2f}\")\n",
    "print(f\"Class2: \\n Precision: {precision_2:.2f} \\n Recall: {recall_2:.2f}\")\n"
   ]
  },
  {
   "cell_type": "markdown",
   "metadata": {},
   "source": [
    "- The F1 score's best value is 1.0\n",
    "- Both Jaccard and F1-score can be used for multi-class classifiers as well."
   ]
  },
  {
   "cell_type": "markdown",
   "metadata": {},
   "source": [
    "## Log loss\n",
    "If output of classifier is tge probability of a class label instead of the label, we may use log loss.\n",
    "Classifiers with smaller values of log loss are ideal."
   ]
  }
 ],
 "metadata": {
  "kernelspec": {
   "display_name": "Python 3",
   "language": "python",
   "name": "python3"
  },
  "language_info": {
   "codemirror_mode": {
    "name": "ipython",
    "version": 3
   },
   "file_extension": ".py",
   "mimetype": "text/x-python",
   "name": "python",
   "nbconvert_exporter": "python",
   "pygments_lexer": "ipython3",
   "version": "3.10.13"
  }
 },
 "nbformat": 4,
 "nbformat_minor": 2
}
