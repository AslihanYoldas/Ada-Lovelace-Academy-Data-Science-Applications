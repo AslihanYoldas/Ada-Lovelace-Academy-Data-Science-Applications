{
 "cells": [
  {
   "cell_type": "markdown",
   "metadata": {},
   "source": [
    "## Week 1"
   ]
  },
  {
   "cell_type": "markdown",
   "metadata": {},
   "source": [
    "### Exercise 1:\n",
    "Write a function that receives a list as parameter and return how many elements it has; if it doesn't have any element return an error."
   ]
  },
  {
   "cell_type": "markdown",
   "metadata": {},
   "source": [
    "#### Solution 1:"
   ]
  },
  {
   "cell_type": "code",
   "execution_count": 1,
   "metadata": {},
   "outputs": [
    {
     "data": {
      "text/plain": [
       "4"
      ]
     },
     "execution_count": 1,
     "metadata": {},
     "output_type": "execute_result"
    }
   ],
   "source": [
    "# With len() function\n",
    "def count_list(list1):\n",
    "    \"\"\"\n",
    "    count the elements in a list with len() function. If it doesn't have any elements it will raise exception\n",
    "\n",
    "    :param list1: list -list whose elements are to be counted\n",
    "    :return:int -result how many elements the list has\n",
    "    \n",
    "    \"\"\"\n",
    "    result=len(list1)\n",
    "    if result==0:\n",
    "        raise Exception(\"list has no elements\")\n",
    "    return result\n",
    "    \n",
    "count_list([1,2,'a',True]) \n"
   ]
  },
  {
   "cell_type": "code",
   "execution_count": 2,
   "metadata": {},
   "outputs": [
    {
     "data": {
      "text/plain": [
       "4"
      ]
     },
     "execution_count": 2,
     "metadata": {},
     "output_type": "execute_result"
    }
   ],
   "source": [
    "#with loop\n",
    "def count_list(list1):\n",
    "    \"\"\"\n",
    "    count the elements in a list with a loop. If it doesn't have any elements it will raise exception\n",
    "\n",
    "    :param list1: list -list whose elements are to be counted\n",
    "    :return:int -count how many elements the list has\n",
    "    \n",
    "    \"\"\"\n",
    "    count=0\n",
    "    for item  in list1:\n",
    "        count+=1\n",
    "    if count==0:\n",
    "        raise Exception(\"list has no elements\")\n",
    "    return count\n",
    "\n",
    "count_list([1,2,'a',True]) \n"
   ]
  },
  {
   "cell_type": "markdown",
   "metadata": {},
   "source": [
    "### Exercise 2:\n",
    "Write a function that receives a string as parameter and return the number of each character in it."
   ]
  },
  {
   "cell_type": "code",
   "execution_count": 119,
   "metadata": {},
   "outputs": [
    {
     "data": {
      "text/plain": [
       "{'A': 2,\n",
       " 'd': 2,\n",
       " 'a': 3,\n",
       " ' ': 2,\n",
       " 'L': 1,\n",
       " 'o': 1,\n",
       " 'v': 1,\n",
       " 'e': 3,\n",
       " 'l': 1,\n",
       " 'c': 2,\n",
       " 'm': 1,\n",
       " 'y': 1}"
      ]
     },
     "execution_count": 119,
     "metadata": {},
     "output_type": "execute_result"
    }
   ],
   "source": [
    "def count_charachter(str1):\n",
    "  \"\"\" \n",
    "  For given string counts each unique charachter in the string and return charachter and their number as a dictionary\n",
    "\n",
    "    :param str1: string -string whose characters to be counted\n",
    "    :return:dictionary -result dictionary for each unique charachter in the string as a key and their numbers as a value\n",
    "  \"\"\"\n",
    "  result={}#dictionary for charachter and their count\n",
    "  for character in str1:\n",
    "    if character not in result:#If the chrachter not counted yet\n",
    "      counter = str1.count(character)# Calculate number of that charachter\n",
    "      result.update({character:counter})#added to the dict\n",
    "  return result\n",
    "count_charachter('Ada Lovelace Academy') "
   ]
  },
  {
   "cell_type": "code",
   "execution_count": 109,
   "metadata": {},
   "outputs": [
    {
     "name": "stdout",
     "output_type": "stream",
     "text": [
      "   count\n",
      "e      3\n",
      "a      3\n",
      "c      2\n",
      "d      2\n",
      "A      2\n",
      "y      1\n",
      "m      1\n",
      "L      1\n",
      "l      1\n",
      "v      1\n",
      "o      1\n"
     ]
    }
   ],
   "source": [
    "import pandas as pd\n",
    "def count_charachter(str1):\n",
    "    \"\"\"\n",
    "    For given string counts each unique charachter in the string and return charachter and their number as a dataframe. \n",
    "    Space is not included as a charachter.\n",
    "    Uses join() and split() functions for getting the charachters from the string.\n",
    "\n",
    "    :param str1: string -string whose characters to be counted\n",
    "    :return:dataframe -df_result each unique charachter and their numbers in the string\n",
    "    \"\"\"\n",
    "    df_result=pd.DataFrame(' '.join(str1).split())#get every charachter except space in the string and turn into dataframe\n",
    "    df_result=df_result.apply(pd.value_counts)#returns counts of unique elements in the dataframe\n",
    "    df_result=df_result.rename(columns={0:'count'} )\n",
    "    return df_result\n",
    "print(count_charachter('Ada Lovelace Academy'))\n"
   ]
  },
  {
   "cell_type": "code",
   "execution_count": 120,
   "metadata": {},
   "outputs": [
    {
     "name": "stdout",
     "output_type": "stream",
     "text": [
      "   count\n",
      "e      3\n",
      "a      3\n",
      "A      2\n",
      "c      2\n",
      "d      2\n",
      "       2\n",
      "y      1\n",
      "m      1\n",
      "L      1\n",
      "l      1\n",
      "v      1\n",
      "o      1\n"
     ]
    }
   ],
   "source": [
    "def count_charachter(str1):\n",
    "    \"\"\"\n",
    "    For given string counts each unique charachter in the string and return charachter and their number as a dataframe.\n",
    "    Space is included as a charachter.\n",
    "    Uses loop for getting the chrachters from the string\n",
    "\n",
    "    :param str1: string -string whose characters to be counted\n",
    "    :return:dataframe -df_result each unique charachter and their numbers in the string\n",
    "    \"\"\"\n",
    "    df_result=pd.DataFrame(chr for chr in str1)#get every charachter in the string including space and turn into dataframe\n",
    "    df_result=df_result.apply(pd.value_counts)#get counts of unique elements in the dataframe\n",
    "    df_result=df_result.rename(columns={0:'count'} )\n",
    "    return df_result\n",
    "print(count_charachter('Ada Lovelace Academy'))"
   ]
  }
 ],
 "metadata": {
  "kernelspec": {
   "display_name": "Python 3",
   "language": "python",
   "name": "python3"
  },
  "language_info": {
   "codemirror_mode": {
    "name": "ipython",
    "version": 3
   },
   "file_extension": ".py",
   "mimetype": "text/x-python",
   "name": "python",
   "nbconvert_exporter": "python",
   "pygments_lexer": "ipython3",
   "version": "3.8.3"
  }
 },
 "nbformat": 4,
 "nbformat_minor": 2
}
