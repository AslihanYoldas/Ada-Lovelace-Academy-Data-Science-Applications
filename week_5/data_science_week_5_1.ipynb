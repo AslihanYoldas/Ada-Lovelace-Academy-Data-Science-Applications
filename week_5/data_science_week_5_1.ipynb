{
 "cells": [
  {
   "cell_type": "code",
   "execution_count": null,
   "metadata": {},
   "outputs": [],
   "source": [
    "if __name__ == \"__main__\":\n",
    "    run_function()"
   ]
  },
  {
   "cell_type": "code",
   "execution_count": null,
   "metadata": {},
   "outputs": [],
   "source": [
    "# dunder methods in python"
   ]
  },
  {
   "cell_type": "code",
   "execution_count": 1,
   "metadata": {},
   "outputs": [
    {
     "data": {
      "text/plain": [
       "'__main__'"
      ]
     },
     "execution_count": 1,
     "metadata": {},
     "output_type": "execute_result"
    }
   ],
   "source": [
    "__name__"
   ]
  },
  {
   "cell_type": "code",
   "execution_count": null,
   "metadata": {},
   "outputs": [],
   "source": [
    "# modules: libraries, functions, classes, files(.py)"
   ]
  },
  {
   "cell_type": "code",
   "execution_count": null,
   "metadata": {},
   "outputs": [],
   "source": [
    "# with __name__ we can make a distinction of modules\n",
    "# dışardan mı gelmiş ayrımını yapabiliyoruz import/ current file\n",
    "# İstemediğimiz kodların çalışmasını engelliyoruz\n"
   ]
  },
  {
   "cell_type": "code",
   "execution_count": 1,
   "metadata": {},
   "outputs": [
    {
     "name": "stdout",
     "output_type": "stream",
     "text": [
      "this is my module\n",
      "__main__\n",
      "pandas\n",
      "timezone\n"
     ]
    }
   ],
   "source": [
    "import pandas \n",
    "#top level code\n",
    "df = pandas.DataFrame([1, 2])\n",
    "print(\"this is my module\")\n",
    "#name bunun kontrol edilmesini sağlıyor\n",
    "print(__name__)\n",
    "print(pandas.__name__)\n",
    "\n",
    "from datetime import timezone\n",
    "print(timezone.__name__)\n",
    "\n"
   ]
  },
  {
   "cell_type": "markdown",
   "metadata": {},
   "source": [
    "#### Top-level code\n",
    "\n",
    "- In Python, the term \"top-level code\" typically refers to code that is not inside any function, class, or other block structure.\n",
    "- It's the code that gets executed when a Python script or module is run. This includes variable assignments, function and class definitions, and any other statements that are not indented under another structure."
   ]
  },
  {
   "cell_type": "code",
   "execution_count": null,
   "metadata": {},
   "outputs": [],
   "source": [
    "# Top-level code\n",
    "print(\"This is top-level code.\")\n",
    "\n",
    "def my_function():\n",
    "    # Code inside a function\n",
    "    print(\"This is inside a function.\")\n",
    "\n",
    "# Another top-level code\n",
    "x = 10\n",
    "y = 20\n",
    "result = x + y\n",
    "\n",
    "# Execution starts here when the script is run\n",
    "print(\"Result:\", result)\n"
   ]
  },
  {
   "cell_type": "markdown",
   "metadata": {},
   "source": [
    "In this example, the lines with print(\"This is top-level code.\"), variable assignments (x = 10, y = 20), and the final print(\"Result:\", result) are considered top-level code. They are executed in sequence when the script is run.\n",
    "\n",
    "It's worth noting that Python follows an imperative programming style, and the top-level code is executed sequentially from top to bottom. Functions, classes, and other block structures define scopes where variables and code have their own context."
   ]
  }
 ],
 "metadata": {
  "kernelspec": {
   "display_name": "Python 3",
   "language": "python",
   "name": "python3"
  },
  "language_info": {
   "codemirror_mode": {
    "name": "ipython",
    "version": 3
   },
   "file_extension": ".py",
   "mimetype": "text/x-python",
   "name": "python",
   "nbconvert_exporter": "python",
   "pygments_lexer": "ipython3",
   "version": "3.10.13"
  }
 },
 "nbformat": 4,
 "nbformat_minor": 2
}
